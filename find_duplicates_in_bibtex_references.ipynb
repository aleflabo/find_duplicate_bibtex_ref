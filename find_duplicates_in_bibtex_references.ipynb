{
  "cells": [
    {
      "cell_type": "code",
      "source": [
        "!pip install bibtexparser"
      ],
      "metadata": {
        "colab": {
          "base_uri": "https://localhost:8080/"
        },
        "id": "AggENuNa2NhT",
        "outputId": "79d87e07-e279-4eec-c110-b476554d8c4c"
      },
      "execution_count": 2,
      "outputs": [
        {
          "output_type": "stream",
          "name": "stdout",
          "text": [
            "Collecting bibtexparser\n",
            "  Downloading bibtexparser-1.4.1.tar.gz (55 kB)\n",
            "\u001b[2K     \u001b[90m━━━━━━━━━━━━━━━━━━━━━━━━━━━━━━━━━━━━━━━━\u001b[0m \u001b[32m55.1/55.1 kB\u001b[0m \u001b[31m1.6 MB/s\u001b[0m eta \u001b[36m0:00:00\u001b[0m\n",
            "\u001b[?25h  Preparing metadata (setup.py) ... \u001b[?25l\u001b[?25hdone\n",
            "Requirement already satisfied: pyparsing>=2.0.3 in /usr/local/lib/python3.10/dist-packages (from bibtexparser) (3.1.1)\n",
            "Building wheels for collected packages: bibtexparser\n",
            "  Building wheel for bibtexparser (setup.py) ... \u001b[?25l\u001b[?25hdone\n",
            "  Created wheel for bibtexparser: filename=bibtexparser-1.4.1-py3-none-any.whl size=43252 sha256=044531a1246cbe5fcef13ab1cf37570c999d531baca99f7057866b1ab403036e\n",
            "  Stored in directory: /root/.cache/pip/wheels/08/c6/c3/56e639fab68d1fdbf13ea147636d9795ccdbd3c1d3178d1332\n",
            "Successfully built bibtexparser\n",
            "Installing collected packages: bibtexparser\n",
            "Successfully installed bibtexparser-1.4.1\n"
          ]
        }
      ]
    },
    {
      "cell_type": "code",
      "source": [
        "import bibtexparser\n",
        "from bibtexparser.bparser import BibTexParser\n"
      ],
      "metadata": {
        "id": "5sbcibHO2NlN"
      },
      "execution_count": 3,
      "outputs": []
    },
    {
      "cell_type": "code",
      "source": [
        "# parse the reference file\n",
        "with open('/content/references.bib') as bibtex_file:\n",
        "    parser = BibTexParser()\n",
        "    bib_database = bibtexparser.load(bibtex_file, parser=parser)\n",
        "    entries = bib_database.entries\n",
        "\n",
        "print(entries[10])\n"
      ],
      "metadata": {
        "colab": {
          "base_uri": "https://localhost:8080/"
        },
        "id": "RuAaQPiC2Nnd",
        "outputId": "626a3d23-4761-4f07-d95e-991f2a166fcf"
      },
      "execution_count": 5,
      "outputs": [
        {
          "output_type": "stream",
          "name": "stderr",
          "text": [
            "WARNING:bibtexparser.bparser:Overwriting existing string for key: pami.\n",
            "WARNING:bibtexparser.bparser:Overwriting existing string for key: ijcv.\n",
            "WARNING:bibtexparser.bparser:Overwriting existing string for key: cvpr.\n",
            "WARNING:bibtexparser.bparser:Overwriting existing string for key: iccv.\n",
            "WARNING:bibtexparser.bparser:Overwriting existing string for key: eccv.\n",
            "WARNING:bibtexparser.bparser:Overwriting existing string for key: nips.\n",
            "WARNING:bibtexparser.bparser:Overwriting existing string for key: icpr.\n",
            "WARNING:bibtexparser.bparser:Overwriting existing string for key: bmvc.\n",
            "WARNING:bibtexparser.bparser:Overwriting existing string for key: tog.\n",
            "WARNING:bibtexparser.bparser:Overwriting existing string for key: tip.\n",
            "WARNING:bibtexparser.bparser:Overwriting existing string for key: tvcg.\n",
            "WARNING:bibtexparser.bparser:Overwriting existing string for key: tmm.\n",
            "WARNING:bibtexparser.bparser:Overwriting existing string for key: acmmm.\n",
            "WARNING:bibtexparser.bparser:Overwriting existing string for key: icme.\n",
            "WARNING:bibtexparser.bparser:Overwriting existing string for key: icassp.\n",
            "WARNING:bibtexparser.bparser:Overwriting existing string for key: icip.\n",
            "WARNING:bibtexparser.bparser:Overwriting existing string for key: accv.\n",
            "WARNING:bibtexparser.bparser:Overwriting existing string for key: iclr.\n",
            "WARNING:bibtexparser.bparser:Overwriting existing string for key: ijcai.\n",
            "WARNING:bibtexparser.bparser:Overwriting existing string for key: pr.\n",
            "WARNING:bibtexparser.bparser:Overwriting existing string for key: aaai.\n",
            "WARNING:bibtexparser.bparser:Overwriting existing string for key: cvprw.\n",
            "WARNING:bibtexparser.bparser:Overwriting existing string for key: csvt.\n"
          ]
        },
        {
          "output_type": "stream",
          "name": "stdout",
          "text": [
            "{'organization': 'ACM', 'year': '2005', 'pages': '157--166', 'booktitle': 'Proceedings of the eleventh ACM SIGKDD international conference on Knowledge discovery in data mining', 'author': 'Lazarevic, Aleksandar and Kumar, Vipin', 'title': 'Feature bagging for outlier detection', 'ENTRYTYPE': 'inproceedings', 'ID': 'lazarevic2005feature'}\n"
          ]
        }
      ]
    },
    {
      "cell_type": "code",
      "source": [
        "# printing the ID and the title of multiple entries that have same title but different ID\n",
        "\n",
        "title_to_info = {}\n",
        "for i in range(len(entries)):\n",
        "  if entries[i]['title'] not in title_to_info.keys():\n",
        "    title_to_info[entries[i]['title']] = entries[i]\n",
        "  else:\n",
        "    print('\\nhei!, I\\'ve found a clone')\n",
        "    print(entries[i]['ID'], entries[i]['title'])\n",
        "    print(title_to_info[entries[i]['title']]['ID'], title_to_info[entries[i]['title']]['title'])\n",
        "\n",
        "    title_to_info[entries[i]['title']] = [title_to_info[entries[i]['title']]].append(entries[i])"
      ],
      "metadata": {
        "colab": {
          "base_uri": "https://localhost:8080/"
        },
        "id": "rJaW65pZ2Npq",
        "outputId": "19303efa-0085-4fbc-c628-b1d2e21d5526"
      },
      "execution_count": 25,
      "outputs": [
        {
          "output_type": "stream",
          "name": "stdout",
          "text": [
            "\n",
            "hei!, I've found a clone\n",
            "ehealth Context-Aware Adaptive Framework for e-Health Monitoring\n",
            "synteticsequencesinhealthmonitoring Context-Aware Adaptive Framework for e-Health Monitoring\n",
            "\n",
            "hei!, I've found a clone\n",
            "srivastava2014dropout Dropout: A Simple Way to Prevent Neural Networks from Overfitting\n",
            "JMLR:v15:srivastava14a Dropout: A Simple Way to Prevent Neural Networks from Overfitting\n",
            "\n",
            "hei!, I've found a clone\n",
            "BARBALAU2023103656 SSMTL++: Revisiting self-supervised multi-task learning for video anomaly detection\n",
            "barbalau23 SSMTL++: Revisiting self-supervised multi-task learning for video anomaly detection\n",
            "\n",
            "hei!, I've found a clone\n",
            "li2013 Visual abnormal behavior detection based on trajectory sparse reconstruction analysis\n",
            "li13 Visual abnormal behavior detection based on trajectory sparse reconstruction analysis\n",
            "\n",
            "hei!, I've found a clone\n",
            "luo19 Normal graph: Spatial temporal graph convolutional networks based prediction network for skeleton based video anomaly detection\n",
            "luo21 Normal graph: Spatial temporal graph convolutional networks based prediction network for skeleton based video anomaly detection\n",
            "\n",
            "hei!, I've found a clone\n",
            "georgescu21_1 Anomaly Detection in Video via Self-Supervised and Multi-Task Learning\n",
            "Georgescu21 Anomaly Detection in Video via Self-Supervised and Multi-Task Learning\n",
            "\n",
            "hei!, I've found a clone\n",
            "Dabral19 Dynamic Multiscale Graph Neural Networks for 3D Skeleton-Based Human Motion Prediction\n",
            "li20 Dynamic Multiscale Graph Neural Networks for 3D Skeleton-Based Human Motion Prediction\n",
            "\n",
            "hei!, I've found a clone\n",
            "bnorm15 Batch Normalization: Accelerating Deep Network Training by Reducing Internal Covariate Shift\n",
            "ioffe15 Batch Normalization: Accelerating Deep Network Training by Reducing Internal Covariate Shift\n"
          ]
        }
      ]
    }
  ],
  "metadata": {
    "colab": {
      "name": "Un benvenuto a Colaboratory",
      "provenance": []
    },
    "kernelspec": {
      "display_name": "Python 3",
      "name": "python3"
    }
  },
  "nbformat": 4,
  "nbformat_minor": 0
}